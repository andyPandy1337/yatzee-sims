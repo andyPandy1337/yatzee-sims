{
  "nbformat": 4,
  "nbformat_minor": 0,
  "metadata": {
    "colab": {
      "name": "Yahtzee.ipynb",
      "version": "0.3.2",
      "provenance": [],
      "collapsed_sections": [],
      "include_colab_link": true
    },
    "kernelspec": {
      "display_name": "Python 3",
      "language": "python",
      "name": "python3"
    }
  },
  "cells": [
    {
      "cell_type": "markdown",
      "metadata": {
        "id": "view-in-github",
        "colab_type": "text"
      },
      "source": [
        "<a href=\"https://colab.research.google.com/github/andyPandy1337/yatzee-sims/blob/master/Yahtzee.ipynb\" target=\"_parent\"><img src=\"https://colab.research.google.com/assets/colab-badge.svg\" alt=\"Open In Colab\"/></a>"
      ]
    },
    {
      "metadata": {
        "id": "KSDwUZ9IMQ7Z",
        "colab_type": "text"
      },
      "cell_type": "markdown",
      "source": [
        "## Log\n",
        "\n",
        "- **20190302** -  Found an issue where the inheritance for `MinimizeLossPlayer` seems to be not working. It is selecting dice that are not in the set. I suppose it has to do with inheritance somehow?\n",
        "- **20190225** - Added a `MinimizeLossPlayer`.\n",
        "- **20190225** - The final bugs in the re-written implementation are now eliminated. The game runs as it should with a very simple player strategy.\n",
        "- **20190225** - The final bugs in the re-written implementation are now eliminated. The game runs as it should with a very simple player strategy.\n",
        "\n",
        "\n",
        "**20190224** - Logic has been re-written in a way that should help to evaulate more strategies in the future. THe player class is now more independent and \"makes its own decisions\". It is still not fully functioning and the scoring seems to be a bit off.\n",
        "\n",
        "\n",
        "## List of improvments\n",
        "  \n",
        "- ~~The scoring seems broken somehow. The player tries to play stuff he should not play.~~˙\n",
        "- ~~Data formatting seems to be a bit inconsistent, could that be a problem?~~"
      ]
    },
    {
      "metadata": {
        "id": "R6khpShhCweP",
        "colab_type": "text"
      },
      "cell_type": "markdown",
      "source": [
        "# Yatzee game simulator\n",
        "\n",
        "Goal: Be able to evaluate different yatzee game strategies with the help of simulations.\n",
        "\n",
        "## Yatzee game flow\n",
        "\n",
        "1. The player rolls 5 die\n",
        "2. The player selects which die to keep, and which ones to discard. This is repeated maximium 2 times.\n",
        "3. The player selects which way to \"score\" with die set, based on the the scores available. (see below for scores)\n",
        "4. Based on the selection, the user gets a score for a given selection. This score then becomes unavailable for future scores\n",
        " \n",
        "### Scores\n",
        "\n",
        "- Ones - Sixes : Sum of the ones-sixes in the die set. E.g, the set `[1,2,3,3,1]` assigned to 1's would yeild 2p, assigned to 3's 6p.\n",
        "- One pair : 2 equal die. Sum of the die that are in the pair, e.g a pair of 2's yeilds 4p.\n",
        "- Two pair : 2 one pairs in set. Sum of the die that are in the pair, e.g a pair of 2's yeilds 4p.\n",
        "- Triplets : 3 equal die. Sum of the die that are in the triplet, e.g a triplet of 3's yeilds 15p.\n",
        "- Quads : 4 equal die. Sum of the die that are in the pair, e.g a four pair of 4's yeilds 16p.\n",
        "- Small straight : If the die set fulfill the sequence `[1,2,3,4,5]` 15p.\n",
        "- Large straight : If the die set fulfill the sequence `[2,3,4,5, 6]` 20p.\n",
        "- House : Three dice show same, and 2 other die show same. E.g `[2,2,2,3,3]` which yeilds 15p.\n",
        "- Chance : Possible for any combination. Score is the sum of all die.\n",
        "- Yatzee : All die show the same. E.g `[1,1,1,1,1]` 50p.\n",
        "- Bonus : If the score of Ones-Sixes exceeds 64p. Gives 50p.\n",
        "\n",
        "https://sv.wikipedia.org/wiki/Yatzy"
      ]
    },
    {
      "metadata": {
        "id": "z7z1x81WDQlF",
        "colab_type": "code",
        "colab": {}
      },
      "cell_type": "code",
      "source": [
        "!pip install numpy"
      ],
      "execution_count": 0,
      "outputs": []
    },
    {
      "metadata": {
        "id": "h-bUJS-ZyV27",
        "colab_type": "code",
        "colab": {}
      },
      "cell_type": "code",
      "source": [
        "import random\n",
        "from collections import Counter\n",
        "import json"
      ],
      "execution_count": 0,
      "outputs": []
    },
    {
      "metadata": {
        "id": "_u-DQFNCW24o",
        "colab_type": "text"
      },
      "cell_type": "markdown",
      "source": [
        "# Yatzy helper"
      ]
    },
    {
      "metadata": {
        "id": "66RYBZoySDtZ",
        "colab_type": "code",
        "colab": {}
      },
      "cell_type": "code",
      "source": [
        "class YatzyDiceHelper():\n",
        "  \n",
        "  \"\"\"\n",
        "  Helper function to find subsets of die that fullfil a \"minimum number of same type\" criteria. \n",
        "  Applies to pairs (minimum 2), triplets (minium 3) etc.\n",
        "  Returns all unique set of die that fullfil the requirement\n",
        "  \"\"\"\n",
        "  \n",
        "  def find_multiple_in_set(self, dice, option):\n",
        "\n",
        "    requirement = {'PAIR' : 2, 'TRIPLET' : 3, 'QUADS' : 4, 'YATZEE' : 5}\n",
        "\n",
        "    score = {}\n",
        "\n",
        "    dict = {k: v for k, v in Counter(dice).items() if v >= requirement[option]}\n",
        "    score[option] = []\n",
        "\n",
        "    # ensure that we pass values correctly in the case of no option matching\n",
        "    # the requiement\n",
        "    if not dict:\n",
        "      die_dict = {}\n",
        "      die_dict['dice'] = []\n",
        "      score[option].append(die_dict)\n",
        "    else:\n",
        "      for k, v in dict.items():\n",
        "        die_dict = {}\n",
        "        total_die_set = []\n",
        "        # creates a dice set with the number of dice of the correct type\n",
        "        # to be added. E.g for each type of which there is more than 2 die,\n",
        "        # create a list of those\n",
        "        for i in range(requirement[option]):\n",
        "          total_die_set.append(k)\n",
        "        die_dict['dice'] = total_die_set\n",
        "        score[option].append(die_dict)\n",
        "    return score\n",
        "\n",
        "  \"\"\"\n",
        "  Check for two pairs and creates a combined set that would be used\n",
        "  to score on two pairs\n",
        "  \"\"\"\n",
        "  \n",
        "  def find_two_pair_sets(self, pairs):\n",
        "    \n",
        "    sets = {}\n",
        "    \n",
        "    sets['TWO_PAIR'] = []\n",
        "    \n",
        "    # check if there is more than one pair\n",
        "    if len(pairs) > 1:\n",
        "      list = []\n",
        "      # create a single set \n",
        "      for p in pairs:\n",
        "        list.extend(p['dice'])\n",
        "      dice_dict = {}\n",
        "      dice_dict['dice'] = list\n",
        "      sets['TWO_PAIR'].append(dice_dict)\n",
        "    else:\n",
        "      sets['TWO_PAIR'] = []\n",
        "      \n",
        "    return sets\n",
        "  \n",
        "\n",
        "  def set_has_house(self, dice):\n",
        "      shape = list(Counter(dice).values())\n",
        "      diff = set(shape).difference([3,2])\n",
        "      return len(diff) == 0\n",
        "  \n",
        "  def set_has_straight(self, dice):\n",
        "    dice.sort()\n",
        "    return dice == [1,2,3,4,5]\n",
        "\n",
        "  def set_has_full_straight(self, dice):\n",
        "    dice.sort()\n",
        "    return dice == [2,3,4,5,6]\n",
        "\n",
        "  def has_two_pair(self, pairs):\n",
        "    # has at least 2 pairs \n",
        "    return len(pairs) > 1\n",
        "    "
      ],
      "execution_count": 0,
      "outputs": []
    },
    {
      "metadata": {
        "id": "I4ReG5AaWTQp",
        "colab_type": "text"
      },
      "cell_type": "markdown",
      "source": [
        "# Dice\n",
        "\n",
        "A simple representation of a 6 sided die."
      ]
    },
    {
      "metadata": {
        "id": "kcgLv5aNWdXE",
        "colab_type": "code",
        "colab": {}
      },
      "cell_type": "code",
      "source": [
        "class Dice:\n",
        "  \n",
        "    def __init__(self):\n",
        "        pass\n",
        "      \n",
        "    def roll(self):\n",
        "        return random.choice([1,2,3,4,5,6])"
      ],
      "execution_count": 0,
      "outputs": []
    },
    {
      "metadata": {
        "id": "7IT4z1dkWuvl",
        "colab_type": "text"
      },
      "cell_type": "markdown",
      "source": [
        "# Yatzy scorecard"
      ]
    },
    {
      "metadata": {
        "id": "jtg2HtCdWlaV",
        "colab_type": "code",
        "colab": {}
      },
      "cell_type": "code",
      "source": [
        "\"\"\"\n",
        "A class that manages the score state. THe Yatzee game uses this class\n",
        "to keep track of the scores over the course of the game\n",
        "\"\"\" \n",
        "class YatzyScoreCard():\n",
        "  \n",
        "    def __init__(self):\n",
        "\n",
        "      self.scores = {\n",
        "            'ONES' : None, \n",
        "            'TWOS' : None, \n",
        "            'THREES' : None, \n",
        "            'FOURS' : None, \n",
        "            'FIVES' : None,\n",
        "            'SIXES' : None,\n",
        "            'BONUS' : None,\n",
        "            'PAIR' : None,\n",
        "            'TWO_PAIR' : None,\n",
        "            'TRIPLET' : None,\n",
        "            'QUADS' : None,\n",
        "            'STRAIGHT' : None,\n",
        "            'FULL_STRAIGHT' : None, \n",
        "            'HOUSE' : None, \n",
        "            'YATZEE' : None,\n",
        "            'CHANCE' : None\n",
        "      }\n",
        "      \n",
        "      self.TOP_SIX_OPTIONS = ['ONES', 'TWOS','THREES', 'FOURS', 'FIVES', 'SIXES']\n",
        "    \n",
        "    \"\"\"\n",
        "    Returns all the score available in the game\n",
        "    \"\"\"\n",
        "    def get_available_scores(self):\n",
        "      # returns all the score the player has not set a score\n",
        "      return [k for k, v in self.scores.items() if v is None and k != 'BONUS']\n",
        "    \n",
        "    \"\"\"\n",
        "    Calculates the total score on a score card\n",
        "    \"\"\"\n",
        "    def get_total_score(self):\n",
        "      return sum([v for k,v in self.scores.items() if v is not None])\n",
        "    \n",
        "    \n",
        "    def get_scorecard(self):\n",
        "      return self.scores\n",
        "    \n",
        "    \n",
        "    \"\"\"\n",
        "    Checks whether the user is elgible for a bonus \n",
        "    \"\"\"\n",
        "    def is_valid_for_bonus(self):\n",
        "      bonus_score_die = self.TOP_SIX_OPTIONS\n",
        "        \n",
        "      try:\n",
        "          valid_for_bonus = sum([v for k,v in self.scores.items() if k in bonus_score_die]) > 63\n",
        "          not_bonus_score = self.scores['BONUS'] is None\n",
        "          return valid_for_bonus and no_bonus_score\n",
        "      except:\n",
        "          return False\n",
        "    \n",
        "    \"\"\"\n",
        "    Updates the scorecard for a given scoring option and a point.\n",
        "    \"\"\"\n",
        "    def update_scorecard(self, score_option, points):\n",
        "      \n",
        "      \n",
        "      #print(\"SCORECARD UPDATED\")\n",
        "      #print(score_option, \" played for \", points, \" points\")\n",
        "      \n",
        "      self.scores[score_option] = points"
      ],
      "execution_count": 0,
      "outputs": []
    },
    {
      "metadata": {
        "id": "s_2iZ-ikWpD6",
        "colab_type": "text"
      },
      "cell_type": "markdown",
      "source": [
        "#The Yatzy class\n",
        "\n"
      ]
    },
    {
      "metadata": {
        "id": "CKj--tYUCweQ",
        "colab_type": "code",
        "colab": {}
      },
      "cell_type": "code",
      "source": [
        "\"\"\"\n",
        "The Yatzee class manaages the overall state and flow of the game.\n",
        "\"\"\"\n",
        "\n",
        "\n",
        "# the main class of the actual game\n",
        "class Yatzy:\n",
        "    \n",
        "    def __init__(self, player, debug=False):\n",
        "        self.player = player\n",
        "        \n",
        "        self.debug = debug\n",
        "        \n",
        "        self.die_set = []\n",
        "        self.scorecard = YatzyScoreCard()\n",
        "        self.score_is_valid = False\n",
        "        \n",
        "        self.current_available_scores = {}\n",
        "\n",
        "    # start a game\n",
        "    def play(self):\n",
        "        \n",
        "        \n",
        "        if self.debug:\n",
        "          print(\"****Game started****\")\n",
        "        \n",
        "        while len(self.scorecard.get_available_scores()) > 0:\n",
        "          \n",
        "          # we choose to pass the die selection at each round\n",
        "          # it feels like it makes more sense to let the game\n",
        "          # handle die logic. maybe the player will cheat :-)\n",
        "                    \n",
        "          # roll 5 die to start with, and fetch the available scores for this round\n",
        "          self.die_set = self.roll_die(5)\n",
        "          for i in range(3):\n",
        "            if self.debug:\n",
        "              print(\"ROUND: \", i, \" GAME ASKING PLAYER TO CHOOSE DIE\")\n",
        "            available_scores = self.scorecard.get_available_scores()\n",
        "            # ask the player to choose die\n",
        "            player_dice_to_discard = player.choose_die(self.die_set, available_scores)\n",
        "            # update the set of die available\n",
        "            self.update_die_set(player_dice_to_discard)\n",
        "            \n",
        "\n",
        "          # let the user attempt to score until it chooses a valid option\n",
        "          #this returns which die from the set which the user wants to play on a given score\n",
        "          #print(\"GAME ASKING PLAYER TO SCORE\")\n",
        "          player_selected_score = player.choose_score(self.die_set)\n",
        "          \n",
        "          if self.debug:\n",
        "            print(\"GAME UPDATING SCORE\")\n",
        "            print(self.die_set)\n",
        "            print(player_selected_score)\n",
        "          self.update_yatzee_score(player_selected_score)\n",
        "          \n",
        "          if self.debug:\n",
        "          \n",
        "            print(\"Player total score\", self.scorecard.get_total_score())\n",
        "            print(\"Total scorecard\")\n",
        "          \n",
        "          \n",
        "        if self.debug:\n",
        "          print(\"***GAME COMPLETE\")\n",
        "          print(\"Player total score\", self.scorecard.get_total_score())\n",
        "          print(\"Total scorecard\")\n",
        "          print(json.dumps(self.scorecard.get_scorecard(), indent=2))\n",
        "    \n",
        "    \"\"\"\n",
        "    Calculates the score for a given selection and a set of die played on that option.\n",
        "    Wants both as parameters.\n",
        "    \"\"\"\n",
        "    def update_yatzee_score(self, player_scoring_option):\n",
        "        \n",
        "        chosen_option = player_scoring_option['score']\n",
        "        die_set = player_scoring_option['die_set']\n",
        "        \n",
        "        if self.player_should_score(chosen_option, die_set):\n",
        "        \n",
        "            if chosen_option == 'STRAIGHT':\n",
        "                self.scorecard.update_scorecard(chosen_option, 15)\n",
        "            elif chosen_option == 'FULL_STRAIGHT':\n",
        "                self.scorecard.update_scorecard(chosen_option, 20)\n",
        "            \n",
        "            elif chosen_option == 'YATZY':\n",
        "                self.scorecard.update_scorecard(chosen_option, 50)\n",
        "            \n",
        "            else:\n",
        "                self.scorecard.update_scorecard(chosen_option, sum(die_set))\n",
        "          \n",
        "        else:\n",
        "            self.scorecard.update_scorecard(chosen_option, 0)\n",
        "          \n",
        "        if self.scorecard.is_valid_for_bonus():\n",
        "            \n",
        "            if self.debug:\n",
        "              print(\"Player awarded bonus\")\n",
        "            self.scorecard.update_scorecard('BONUS', 50)\n",
        "         \n",
        "    def played_option_in_set():\n",
        "      set()\n",
        "\n",
        "    def player_should_score(self, score, die):\n",
        "      \n",
        "        if score == 'PAIR':\n",
        "            shape = list(Counter(die).values())\n",
        "            # contains at least 1 die of same type\n",
        "            types = [x for x in shape if x >= 2]\n",
        "            return len(types) > 0\n",
        "\n",
        "        elif score == 'TWO_PAIR':\n",
        "            # contains at least 2 set of\n",
        "            # die with the same type\n",
        "            shape = list(Counter(die).values())\n",
        "            shape.sort()\n",
        "            # this assumes that a quad cannot be considered a two pair\n",
        "            return shape == [1,2,2] or shape == [2,3]\n",
        "\n",
        "        elif score == 'TRIPLETS':\n",
        "            shape = list(Counter(die).values())\n",
        "            # contains at least 3 of same type\n",
        "            types = [x for x in shape if x >= 3]\n",
        "            return len(types) > 0\n",
        "\n",
        "        elif score == 'QUADS':\n",
        "            shape = list(Counter(die).values())\n",
        "            # contains at least 4 of same type\n",
        "            types = [x for x in shape if x >= 4]\n",
        "            return len(types) > 0\n",
        "\n",
        "        elif score == 'HOUSE':\n",
        "            shape = list(Counter(die).values())\n",
        "            diff = set(shape).difference([3,2])\n",
        "            return len(diff) == 0\n",
        "\n",
        "        elif score == 'STRAIGHT':\n",
        "            die.sort()\n",
        "            return die == [1,2,3,4,5]\n",
        "\n",
        "        elif score == 'FULL_STRAIGHT':\n",
        "            die.sort()\n",
        "            return die == [2,3,4,5,6]\n",
        "\n",
        "        elif score == 'YATZEE':\n",
        "            shape = list(Counter(die).values())\n",
        "            # it could be the case that the die set is empty\n",
        "            try:\n",
        "              res = shape[0] == 5\n",
        "            except:\n",
        "              res = False\n",
        "            return res\n",
        "          \n",
        "        else:\n",
        "          \n",
        "          return True\n",
        "\n",
        "    # each time the user returns his new option, we replace those die with new\n",
        "    \n",
        "    # take the users die decision and roll the new the new dice\n",
        "    def update_die_set(self, player_decision):\n",
        "        discarded_dice = []\n",
        "        \n",
        "        # ensure that the list gets popped in the correct order\n",
        "        # (from the last index to first)\n",
        "        player_decision.sort(reverse=True)\n",
        "        \n",
        "        # remove the user selection from the set of die\n",
        "        for dice_to_throw_again in player_decision:\n",
        "            discarded_dice.append(self.die_set.pop(dice_to_throw_again))\n",
        "        \n",
        "        # calculate the number of new die to throw\n",
        "        num_die = 5 - len(self.die_set)\n",
        "        \n",
        "        # throw new die\n",
        "        new_die = self.roll_die(num_die)\n",
        "        \n",
        "        # add them to the set of die\n",
        "        self.die_set.extend(new_die)\n",
        "        \n",
        "    def get_final_score(self):\n",
        "      \n",
        "      return self.scorecard.get_total_score()\n",
        "\n",
        "        \n",
        "    def roll_die(self, num_die):\n",
        "        \n",
        "        dice_result = []\n",
        "        \n",
        "        for d in range(num_die):\n",
        "            dice = Dice()\n",
        "            dice_result.append(dice.roll())\n",
        "            \n",
        "        return dice_result"
      ],
      "execution_count": 0,
      "outputs": []
    },
    {
      "metadata": {
        "id": "n_daiWPV-sIj",
        "colab_type": "text"
      },
      "cell_type": "markdown",
      "source": [
        "# The basic player class\n",
        "\n",
        "A representation of the yatzy player. The main goal of the Yatzy player is to get the highest score possible. To his disposal, the Yatzy player has 2 different \n",
        "\n",
        "- Deciding which dice to throw\n",
        "- Deciding how to score a set of die\n",
        "\n",
        "This player follows the following strategy:\n",
        "\n",
        "- Throw all die 2 times regardless of what they are showing\n",
        "- Pick the option that gives the higher score. The player is indifferent if the scores are the same between 2 different scoring options."
      ]
    },
    {
      "metadata": {
        "id": "TH9lDt0_-q0p",
        "colab_type": "code",
        "colab": {}
      },
      "cell_type": "code",
      "source": [
        "class Player:\n",
        "    \n",
        "    def __init__(self, debug=False):\n",
        "      \n",
        "      # in the following form\n",
        "      # ['ONES', 'TWOS', 'FULL_HOUSE']      \n",
        "      self.current_available_options = []\n",
        "      \n",
        "      self.debug = debug\n",
        "      \n",
        "      # An array [1,2,4,2,1]\n",
        "      self.current_die_set = []\n",
        "\n",
        "      # in the following structure\n",
        "      # since the player must propose which set OR subset of die to put on an available score\n",
        "      # {ONES' : [1,2,3]}\n",
        "      \n",
        "      self.current_possible_scores = {}\n",
        "      \n",
        "      self.helper = YatzyDiceHelper()\n",
        "    \n",
        "    \"\"\"\n",
        "    This function should represent what the player chooses to with the set of die.\n",
        "    To keep all, just return []\n",
        "    \"\"\"\n",
        "    \n",
        "    def choose_die(self, dice_set, available_options):\n",
        "      \n",
        "      if self.debug:\n",
        "        print(\"**PLAYER CHOOSING DIE \")\n",
        "      \n",
        "      self.current_die_set = dice_set\n",
        "      self.current_available_scoring_options = available_options\n",
        "      \n",
        "      # the player looks at the possible scores\n",
        "      self.possible_scores()\n",
        "      \n",
        "      self.calculate_scores()\n",
        "      \n",
        "      die_decision = self.make_die_selection()\n",
        "\n",
        "      return die_decision\n",
        "    \n",
        "    \"\"\"\n",
        "    Figures out which dice we should throw again\n",
        "    \"\"\"\n",
        "    def make_die_selection(self):\n",
        "      \n",
        "      \n",
        "      #print(\"PLAYER SELECTED DIE\")\n",
        "      \n",
        "      # throw all of them regardless\n",
        "      die_to_throw = [4,3,2,1,0]\n",
        "      \n",
        "      return die_to_throw\n",
        "      \n",
        "     \n",
        "    \"\"\"\n",
        "    The users method to select the score. Returns a set or subset of die to\n",
        "    play on on a specific score\n",
        "    \"\"\"\n",
        "    \n",
        "    def choose_score(self, dice_set):\n",
        "      \n",
        "      \n",
        "        self.current_die_set = dice_set\n",
        "        \n",
        "        self.possible_scores()\n",
        "        self.calculate_scores()\n",
        "        \n",
        "        # find the scoring options with a score bigger than zero\n",
        "        \n",
        "        #print(\"PLAYER CHOOSING SCORE\")\n",
        "        \n",
        "        with_scores = {\n",
        "          score: dice['score']\n",
        "          for score, score_list in self.current_possible_scores.items()\n",
        "          for dice in score_list\n",
        "          #if dice['score'] > 0\n",
        "        }\n",
        "        \n",
        "        #print(\"These are the options I should consider\")\n",
        "        #print(with_scores)\n",
        "        \n",
        "        ## select the option that gives the most points\n",
        "        chosen_score = max(with_scores, key=with_scores.get)\n",
        "\n",
        "        options = self.current_possible_scores\n",
        "        \n",
        "        die_set = options[chosen_score][0]['dice']\n",
        "        \n",
        "        return {'score' : chosen_score, 'die_set' : die_set}\n",
        "    \n",
        "    \"\"\"\n",
        "    Finds the possible scores given the available scores, and the current set of die.\n",
        "    This should generate the all the possible dice sets and what option they could be played on\n",
        "    \"\"\"\n",
        "    def possible_scores(self):\n",
        "      \n",
        "      #print(\"PLAYER EVALUATING SCORES\")\n",
        "      \n",
        "      ## possible approach: generate all alternatives, and take the difference\n",
        "      # with available to get. Maybe inefficient, but probably OK!\n",
        "        \n",
        "      res = {}\n",
        "\n",
        "      top_six = ['ONES', 'TWOS','THREES', 'FOURS', 'FIVES', 'SIXES']\n",
        "      i = 1\n",
        "      for option in top_six:\n",
        "        res[option] = []\n",
        "        option_dict = {}\n",
        "        option_dict['dice'] = [x for x in self.current_die_set if x == i]\n",
        "        \n",
        "        res[option].append(option_dict)\n",
        "        \n",
        "        i += 1\n",
        "        \n",
        "      res['CHANCE'] = []\n",
        "      \n",
        "      option_dict = {}\n",
        "      \n",
        "      option_dict['dice'] = self.current_die_set\n",
        "      \n",
        "      res['CHANCE'].append(option_dict)\n",
        "\n",
        "      multiples = ['PAIR', 'TRIPLET', 'QUADS','YATZEE']\n",
        "\n",
        "      for multiple in multiples:\n",
        "        res[multiple] = self.helper.find_multiple_in_set(self.current_die_set, multiple)[multiple]\n",
        "\n",
        "      if self.helper.has_two_pair(res['PAIR']):\n",
        "        \n",
        "        res['TWO_PAIR'] = []\n",
        "        option_dict = self.helper.find_two_pair_sets(res['PAIR'])['TWO_PAIR'][0]\n",
        "        \n",
        "        res['TWO_PAIR'].append(option_dict)\n",
        "      else:\n",
        "        res['TWO_PAIR'] = []\n",
        "        option_dict['dice'] = []\n",
        "        res['TWO_PAIR'].append(option_dict)\n",
        "\n",
        "      if self.helper.set_has_house(self.current_die_set):\n",
        "        res['HOUSE'] = []\n",
        "        option_dict = {}\n",
        "        option_dict['dice'] = self.current_die_set\n",
        "        res['HOUSE'].append(option_dict)\n",
        "      else:\n",
        "        res['HOUSE'] = []\n",
        "        option_dict['dice'] = []\n",
        "        res['HOUSE'].append(option_dict)\n",
        "\n",
        "      if self.helper.set_has_straight(self.current_die_set):\n",
        "        res['STRAIGHT'] = []\n",
        "        option_dict = {}\n",
        "        option_dict['dice'] = self.current_die_set\n",
        "        res['STRAIGHT'].append(option_dict)\n",
        "      else:\n",
        "        res['STRAIGHT'] = []\n",
        "        option_dict['dice'] = []\n",
        "        res['STRAIGHT'].append(option_dict)\n",
        "\n",
        "      if self.helper.set_has_full_straight(self.current_die_set):\n",
        "        res['FULL_STRAIGHT'] = []\n",
        "        option_dict = {}\n",
        "        option_dict['dice'] = self.current_die_set\n",
        "        res['FULL_STRAIGHT'].append(option_dict)\n",
        "      else:\n",
        "        res['FULL_STRAIGHT'] = []\n",
        "        option_dict['dice'] = []\n",
        "        res['FULL_STRAIGHT'].append(option_dict)\n",
        "        \n",
        "      # Find the set of scores that we can play on\n",
        "      possible_options = set(res).intersection(set(self.current_available_scoring_options))\n",
        "      \n",
        "      # Create the dictionary again\n",
        "      possible_options_with_sets = {k: v for k,v in res.items() if k in possible_options}      \n",
        "      \n",
        "      self.current_possible_scores = possible_options_with_sets\n",
        "      \n",
        "      if self.debug:\n",
        "        print(self.current_possible_scores)\n",
        "\n",
        "    def calculate_scores(self):\n",
        "      for scoring, option in self.current_possible_scores.items():\n",
        "        for dice_set in option:\n",
        "          dice_set['score'] = sum(dice_set['dice'])\n",
        "\n"
      ],
      "execution_count": 0,
      "outputs": []
    },
    {
      "metadata": {
        "id": "tMp5I8GAciwQ",
        "colab_type": "text"
      },
      "cell_type": "markdown",
      "source": [
        "### Minimizing player\n",
        "\n",
        "There is a possible max score for each alternative you can play in Yatzy. Could it be that the playing the maximum has a large alternative cost?\n",
        "\n",
        "This player just aims to minimize the potential \"loss\" from hist alternatives. It works as follows:\n",
        "\n",
        "- Throw all dice no matter what they show\n",
        "- For each score, calculate the difference to the maximum score for that scoring option. E.g playing *fives* with `[1,2,3,5,5]` gives a score of 10. *Fives* can give a maximum of 25, so the player takes `10-25=-15`. He then chooses to score on the option with the lower loss i.e the \"maximum\"."
      ]
    },
    {
      "metadata": {
        "id": "C-yKg41mSX2E",
        "colab_type": "code",
        "colab": {}
      },
      "cell_type": "code",
      "source": [
        "class MinimizeLossPlayer(Player):\n",
        "\n",
        "  def choose_score(self, dice_set):\n",
        "    \n",
        "    self.current_die_set = dice_set\n",
        "        \n",
        "    self.possible_scores()\n",
        "    self.calculate_scores()\n",
        "        \n",
        "    game_max_scores = {\n",
        "        'ONES' : 5,\n",
        "        'TWOS' : 10, \n",
        "        'THREES' : 15, \n",
        "        'FOURS' : 20, \n",
        "        'FIVES' : 25,\n",
        "        'SIXES' : 30,\n",
        "        'PAIR' : 12,\n",
        "        'TWO_PAIR' : 22,\n",
        "        'TRIPLET' : 18,\n",
        "        'QUADS' : 24,\n",
        "        'STRAIGHT' : 15,\n",
        "        'FULL_STRAIGHT' : 20, \n",
        "        'HOUSE' : 28, \n",
        "        'YATZEE' : 50,\n",
        "        'CHANCE' : 36\n",
        "    }\n",
        "    \n",
        "    with_scores = {\n",
        "      score: dice['score']\n",
        "      for score, score_list in self.current_possible_scores.items()\n",
        "      for dice in score_list\n",
        "    }\n",
        "    \n",
        "    min_scores = {}\n",
        "    \n",
        "    \n",
        "    for score_option, score in with_scores.items():\n",
        "      \n",
        "      # example\n",
        "      # fives played with 2 fives => 10p\n",
        "      # max is 25\n",
        "      # we'd get -15\n",
        "      \n",
        "      diff = score - game_max_scores[score_option]  \n",
        "      min_scores[score_option] = diff\n",
        "    \n",
        "    \n",
        "    chosen_score = max(min_scores, key=min_scores.get)\n",
        "\n",
        "    options = self.current_possible_scores\n",
        "    \n",
        "    die_set = options[chosen_score][0]['dice']\n",
        "        \n",
        "    return {'score' : chosen_score, 'die_set' : die_set}"
      ],
      "execution_count": 0,
      "outputs": []
    },
    {
      "metadata": {
        "id": "bTEcwOBT40th",
        "colab_type": "code",
        "colab": {}
      },
      "cell_type": "code",
      "source": [
        ""
      ],
      "execution_count": 0,
      "outputs": []
    },
    {
      "metadata": {
        "id": "I2v8Eb4m6Ee3",
        "colab_type": "text"
      },
      "cell_type": "markdown",
      "source": [
        ""
      ]
    },
    {
      "metadata": {
        "id": "DUVQZH2IDx8i",
        "colab_type": "code",
        "colab": {}
      },
      "cell_type": "code",
      "source": [
        "game_scores_basic_player = []\n",
        "for game in range(500):\n",
        "  player = Player(debug=False)\n",
        "  yatzy = Yatzy(player, debug=False)\n",
        "  yatzy.play()\n",
        "  game_scores_basic_player.append(yatzy.get_final_score())"
      ],
      "execution_count": 0,
      "outputs": []
    },
    {
      "metadata": {
        "id": "9Lh3BI1lcDwo",
        "colab_type": "code",
        "colab": {}
      },
      "cell_type": "code",
      "source": [
        "game_scores_min_player = []\n",
        "for game in range(500):\n",
        "  player = MinimizeLossPlayer(debug=False)\n",
        "  yatzy = Yatzy(player, debug=False)\n",
        "  yatzy.play()\n",
        "  game_scores_min_player.append(yatzy.get_final_score())"
      ],
      "execution_count": 0,
      "outputs": []
    },
    {
      "metadata": {
        "id": "rHi1wB1XY-k6",
        "colab_type": "code",
        "outputId": "59a9eb15-447c-4acb-e559-9d8e04650d15",
        "colab": {
          "base_uri": "https://localhost:8080/",
          "height": 362
        }
      },
      "cell_type": "code",
      "source": [
        "import matplotlib.pyplot as plt\n",
        "plt.hist(game_scores_basic_player, bins=50)\n",
        "plt.hist(game_scores_min_player, bins=50)\n",
        "plt.title(\"Frequency of game scores over 500 games of Yatzy\")\n",
        "plt.show()"
      ],
      "execution_count": 110,
      "outputs": [
        {
          "output_type": "display_data",
          "data": {
            "image/png": "[encoded data removed]",
            "text/plain": [
              "<Figure size 576x396 with 1 Axes>"
            ]
          },
          "metadata": {
            "tags": []
          }
        }
      ]
    },
    {
      "metadata": {
        "id": "TLvgmy6PbJ-v",
        "colab_type": "code",
        "outputId": "1c01d900-57a2-43ae-a88a-76cd08a28667",
        "colab": {
          "base_uri": "https://localhost:8080/",
          "height": 153
        }
      },
      "cell_type": "code",
      "source": [
        "import numpy as np\n",
        "print(\"Basic player\")\n",
        "print(\"Average score:\", str(np.mean(game_scores_basic_player)))\n",
        "print(\"Minimum score:\", str(np.min(game_scores_basic_player)))\n",
        "print(\"Maximum score:\", str(np.max(game_scores_basic_player)))\n",
        "\n",
        "print(\"Min player\")\n",
        "print(\"Average score:\", str(np.mean(game_scores_min_player)))\n",
        "print(\"Minimum score:\", str(np.min(game_scores_min_player)))\n",
        "print(\"Maximum score:\", str(np.max(game_scores_min_player)))"
      ],
      "execution_count": 112,
      "outputs": [
        {
          "output_type": "stream",
          "text": [
            "Basic player\n",
            "Average score: 71.289\n",
            "Minimum score: 32\n",
            "Maximum score: 137\n",
            "Min player\n",
            "Average score: 67.409\n",
            "Minimum score: 21\n",
            "Maximum score: 134\n"
          ],
          "name": "stdout"
        }
      ]
    },
    {
      "metadata": {
        "id": "yMkRYzBgCweT",
        "colab_type": "text"
      },
      "cell_type": "markdown",
      "source": [
        "# Testing\n",
        "Try some aspects of the game"
      ]
    },
    {
      "metadata": {
        "id": "Sxp3KKzuW_Yk",
        "colab_type": "text"
      },
      "cell_type": "markdown",
      "source": [
        "Test if the player generates reasonable playable options"
      ]
    },
    {
      "metadata": {
        "scrolled": false,
        "id": "LrWBoic1CweU",
        "colab_type": "code",
        "colab": {}
      },
      "cell_type": "code",
      "source": [
        "available_scores  = ['ONES', 'STRAIGHT', 'FIVES', 'PAIR', 'FULL_HOUSE', 'TRIPLETS', 'TWO_PAIR']\n",
        "dice = [2,4,3,1,2]\n",
        "player = Player()\n",
        "player.choose_die(dice, available_scores)"
      ],
      "execution_count": 0,
      "outputs": []
    },
    {
      "metadata": {
        "id": "wv7UFOtiXef6",
        "colab_type": "text"
      },
      "cell_type": "markdown",
      "source": [
        "Test the scoring"
      ]
    },
    {
      "metadata": {
        "id": "lrktpzj0XJd1",
        "colab_type": "code",
        "colab": {}
      },
      "cell_type": "code",
      "source": [
        "options = {\n",
        "  \"ONES\": [\n",
        "    {\n",
        "      \"dice\": [\n",
        "        1,\n",
        "        1,\n",
        "        1\n",
        "      ]\n",
        "    }\n",
        "  ],\n",
        "  \"FIVES\": [\n",
        "    {\n",
        "      \"dice\": []\n",
        "    }\n",
        "  ],\n",
        "  \"PAIR\": [\n",
        "    {\n",
        "      \"dice\": [\n",
        "        1,\n",
        "        1\n",
        "      ]\n",
        "    }\n",
        "  ],\n",
        "  \"FULL_HOUSE\": [],\n",
        "  \"STRAIGHT\": []\n",
        "}"
      ],
      "execution_count": 0,
      "outputs": []
    },
    {
      "metadata": {
        "id": "TxfyD4rgajY5",
        "colab_type": "text"
      },
      "cell_type": "markdown",
      "source": [
        "How scores are assigned"
      ]
    },
    {
      "metadata": {
        "id": "NSfOQ40LPwXz",
        "colab_type": "code",
        "colab": {}
      },
      "cell_type": "code",
      "source": [
        "\n",
        "for scoring, option in options.items():\n",
        "  print(scoring,option)  \n",
        "  for dice_set in option:\n",
        "    dice_set['score'] = sum(dice_set['dice'])\n",
        "    \n",
        "print(options)"
      ],
      "execution_count": 0,
      "outputs": []
    },
    {
      "metadata": {
        "id": "3ulO711kan7B",
        "colab_type": "code",
        "colab": {}
      },
      "cell_type": "code",
      "source": [
        "score_option = list(options.keys())\n",
        "\n",
        "random_option = random.randint(0, (len(score_option)-1))\n",
        "\n",
        "chosen_score = score_option[random_option]\n",
        "\n",
        "try: \n",
        "  options[chosen_score][0]['dice']\n",
        "except:\n",
        "  "
      ],
      "execution_count": 0,
      "outputs": []
    },
    {
      "metadata": {
        "id": "dzZkSY4scz1p",
        "colab_type": "code",
        "colab": {}
      },
      "cell_type": "code",
      "source": [
        "len(score_option)"
      ],
      "execution_count": 0,
      "outputs": []
    },
    {
      "metadata": {
        "id": "Qws7BtjS8Cf0",
        "colab_type": "text"
      },
      "cell_type": "markdown",
      "source": [
        "Test the two pair generation"
      ]
    },
    {
      "metadata": {
        "id": "w7_IpKOx8B_w",
        "colab_type": "code",
        "colab": {}
      },
      "cell_type": "code",
      "source": [
        ""
      ],
      "execution_count": 0,
      "outputs": []
    },
    {
      "metadata": {
        "id": "rslGczMkPwwi",
        "colab_type": "text"
      },
      "cell_type": "markdown",
      "source": [
        "# Debugging / testing section"
      ]
    },
    {
      "metadata": {
        "id": "EWcZ4UxuCweX",
        "colab_type": "code",
        "colab": {}
      },
      "cell_type": "code",
      "source": [
        "import matplotlib.pyplot as plt\n",
        "plt.hist(scores)\n",
        "plt.title(\"Frequency of Yatzee scores by players over 1000 games\")\n",
        "plt.show()"
      ],
      "execution_count": 0,
      "outputs": []
    },
    {
      "metadata": {
        "id": "b7UrYyD5Cwec",
        "colab_type": "code",
        "colab": {}
      },
      "cell_type": "code",
      "source": [
        ""
      ],
      "execution_count": 0,
      "outputs": []
    },
    {
      "metadata": {
        "id": "HOq-S1FhIviJ",
        "colab_type": "code",
        "colab": {}
      },
      "cell_type": "code",
      "source": [
        "options = {\n",
        "  \"ONES\": [\n",
        "    {\n",
        "      \"dice\": [1,1,1],\n",
        "       \"score\" : 3\n",
        "    }\n",
        "  ],\n",
        "  \"FIVES\": [\n",
        "    {\n",
        "      \"dice\": [],\n",
        "        \"score\" : 0\n",
        "    }\n",
        "  ],\n",
        "  \"PAIR\": [\n",
        "    {\n",
        "      \"dice\": [1,1],\n",
        "       \"score\" : 10\n",
        "    }\n",
        "  ],\n",
        "  \"FULL_HOUSE\": [\n",
        "      \n",
        "      {\n",
        "        \"dice\" : [],\n",
        "        \"score\" : 20\n",
        "      },\n",
        "      \n",
        "      {\n",
        "        \"dice\" : [],\n",
        "        \"score\" : 3\n",
        "      }\n",
        "      \n",
        "  ],\n",
        "  \"STRAIGHT\": [\n",
        "      {\n",
        "      'dice' : [],\n",
        "      'score' : 0\n",
        "      }\n",
        "      \n",
        "  ]\n",
        "}"
      ],
      "execution_count": 0,
      "outputs": []
    },
    {
      "metadata": {
        "id": "YhIpD7i7KhMD",
        "colab_type": "code",
        "colab": {}
      },
      "cell_type": "code",
      "source": [
        "non_zero = {\n",
        "    outer_k: {inner_k: myfunc(inner_v)} \n",
        "    for k, v in options.items()\n",
        "    for inner_k, inner_v in outer_v.items()\n",
        "}\n",
        "\n",
        "\n",
        "data = {\n",
        "    outer_k: {inner_k: myfunc(inner_v)} \n",
        "    for outer_k, outer_v in outer_dict.items()\n",
        "    for inner_k, inner_v in outer_v.items()\n",
        "}"
      ],
      "execution_count": 0,
      "outputs": []
    },
    {
      "metadata": {
        "id": "EXpD8WDtKoLe",
        "colab_type": "code",
        "colab": {}
      },
      "cell_type": "code",
      "source": [
        "scoring_and_key = {}\n",
        "for k,v in options.items():\n",
        "  print(k,v)"
      ],
      "execution_count": 0,
      "outputs": []
    },
    {
      "metadata": {
        "id": "-wsurDnD1eCq",
        "colab_type": "code",
        "colab": {}
      },
      "cell_type": "code",
      "source": [
        "dice = [1,1,2,3,5]\n",
        "\n"
      ],
      "execution_count": 0,
      "outputs": []
    },
    {
      "metadata": {
        "id": "17uv6lU46b2s",
        "colab_type": "code",
        "colab": {
          "base_uri": "https://localhost:8080/",
          "height": 34
        },
        "outputId": "9ad3f702-3b4d-44e5-8b1c-7977a83a80ac"
      },
      "cell_type": "code",
      "source": [
        "not_ones"
      ],
      "execution_count": 122,
      "outputs": [
        {
          "output_type": "execute_result",
          "data": {
            "text/plain": [
              "[2, 3, 4]"
            ]
          },
          "metadata": {
            "tags": []
          },
          "execution_count": 122
        }
      ]
    },
    {
      "metadata": {
        "id": "AdcFD0oG6dRD",
        "colab_type": "code",
        "colab": {}
      },
      "cell_type": "code",
      "source": [
        ""
      ],
      "execution_count": 0,
      "outputs": []
    }
  ]
}